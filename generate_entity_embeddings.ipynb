{
 "cells": [
  {
   "cell_type": "code",
   "execution_count": 1,
   "metadata": {},
   "outputs": [
    {
     "name": "stderr",
     "output_type": "stream",
     "text": [
      "100%|██████████| 434/434 [00:00<00:00, 118595.87B/s]\n",
      "100%|██████████| 1344997306/1344997306 [03:10<00:00, 7074277.15B/s] \n",
      "100%|██████████| 231508/231508 [00:01<00:00, 203690.74B/s]\n"
     ]
    }
   ],
   "source": [
    "\n",
    "import json\n",
    "import torch\n",
    "from blink.biencoder.biencoder import BiEncoderRanker, load_biencoder, BertEncoder\n",
    "from pytorch_transformers.modeling_bert import (\n",
    "    BertPreTrainedModel,\n",
    "    BertConfig,\n",
    "    BertModel,\n",
    ")\n",
    "from pytorch_transformers.tokenization_bert import BertTokenizer\n",
    "\n",
    "\n",
    "biencoder_config = \"models/biencoder_wiki_large.json\"\n",
    "biencoder_model = \"models/biencoder_wiki_large.bin\"\n",
    "with open(biencoder_config) as json_file:\n",
    "    biencoder_params = json.load(json_file)\n",
    "    biencoder_params[\"path_to_model\"] = biencoder_model\n",
    "\n",
    "# candidate encoder\n",
    "# biencoder = load_biencoder(biencoder_params)\n",
    "cand_bert = BertModel.from_pretrained(biencoder_params['bert_model'])\n",
    "cand_encoder = BertEncoder(\n",
    "    cand_bert,\n",
    "    biencoder_params[\"out_dim\"],\n",
    "    layer_pulled=biencoder_params[\"pull_from_layer\"],\n",
    "    add_linear=biencoder_params[\"add_linear\"],\n",
    ")\n",
    "state_dict = torch.load(biencoder_params[\"path_to_model\"])\n",
    "cand_encoder.load_state_dict({k[13:]: v for k, v in state_dict.items() if \"cand_encoder\" in k})\n",
    "cand_encoder.training = False\n",
    "\n",
    "# tokenizer\n",
    "tokenizer = BertTokenizer.from_pretrained(\n",
    "    biencoder_params[\"bert_model\"], do_lower_case=biencoder_params[\"lowercase\"]\n",
    ")\n"
   ]
  },
  {
   "cell_type": "code",
   "execution_count": 2,
   "metadata": {},
   "outputs": [
    {
     "name": "stdout",
     "output_type": "stream",
     "text": [
      "Keyboard\n",
      "Mouse\n",
      "Laptop\n",
      "Desktop\n"
     ]
    }
   ],
   "source": [
    "from blink.biencoder.data_process import get_candidate_representation\n",
    "from blink.biencoder.biencoder import to_bert_input\n",
    "\n",
    "with open(\"title2desc.json\", \"r\") as f:\n",
    "    title2desc = json.load( f)\n",
    "\n",
    "title2vecs = {}\n",
    "for title, desc in title2desc.items():\n",
    "    print(title)\n",
    "    tokens = get_candidate_representation(desc, tokenizer, biencoder_params[\"max_cand_length\"], title)\n",
    "    \n",
    "    token_ids = torch.tensor(tokens['ids'], dtype=torch.long).unsqueeze(0)\n",
    "    token_idx_cands, segment_idx_cands, mask_cands = to_bert_input(token_ids, 0) \n",
    "    embedding_cands = cand_encoder(\n",
    "        token_idx_cands, segment_idx_cands, mask_cands\n",
    "    )\n",
    "    \n",
    "    title2vecs[title] = embedding_cands.detach().to(\"cpu\").squeeze()\n",
    "\n",
    "# cos = torch.nn.CosineSimilarity(dim=0)\n",
    "# \n",
    "# e1 = title2vecs['Laptop']\n",
    "# e2 = title2vecs['Mouse']\n",
    "# e3 = title2vecs['Cup']\n",
    "# e4 = title2vecs['Elephant']\n",
    "# e5 = title2vecs['Burger']\n",
    "# \n",
    "# print(cos(torch.tensor(e1), torch.tensor(e2)).item())\n",
    "# print(cos(torch.tensor(e1), torch.tensor(e3)).item())\n",
    "# print(cos(torch.tensor(e1), torch.tensor(e4)).item())\n",
    "# print(cos(torch.tensor(e1), torch.tensor(e5)).item())\n",
    "\n",
    "# 0.8001438975334167\n",
    "# 0.7863001823425293\n",
    "# 0.7561507821083069\n",
    "# 0.7998831868171692\n"
   ]
  },
  {
   "cell_type": "code",
   "execution_count": 15,
   "metadata": {},
   "outputs": [
    {
     "data": {
      "text/plain": [
       "{'Keyboard': tensor([ 0.0187, -0.1631,  0.1399,  ...,  0.0399, -0.2025,  0.1039]),\n",
       " 'Mouse': tensor([ 0.4275, -0.1971, -0.3478,  ..., -0.2199, -0.3707,  0.3632]),\n",
       " 'Laptop': tensor([ 0.1120, -0.5406, -0.2654,  ..., -0.1065, -0.3009,  0.0345]),\n",
       " 'Desktop': tensor([-0.0888, -0.1752,  0.0979,  ...,  0.0107, -0.3411,  0.0434])}"
      ]
     },
     "execution_count": 15,
     "metadata": {},
     "output_type": "execute_result"
    }
   ],
   "source": [
    "import torch\n",
    "torch.load('semantics_blink.pt')"
   ]
  }
 ],
 "metadata": {
  "kernelspec": {
   "display_name": "blink37",
   "language": "python",
   "name": "python3"
  },
  "language_info": {
   "codemirror_mode": {
    "name": "ipython",
    "version": 3
   },
   "file_extension": ".py",
   "mimetype": "text/x-python",
   "name": "python",
   "nbconvert_exporter": "python",
   "pygments_lexer": "ipython3",
   "version": "3.7.15"
  },
  "orig_nbformat": 4,
  "vscode": {
   "interpreter": {
    "hash": "22f2217a4298d3d675a9e8d08a7c2dd2c23849be59d031b70acb996e46683512"
   }
  }
 },
 "nbformat": 4,
 "nbformat_minor": 2
}
